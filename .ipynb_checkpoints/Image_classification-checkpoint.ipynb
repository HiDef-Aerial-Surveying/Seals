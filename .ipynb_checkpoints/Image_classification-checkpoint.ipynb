{
 "cells": [
  {
   "cell_type": "markdown",
   "metadata": {},
   "source": [
    "# Image Classification\n",
    "\n",
    "## Getting Started\n",
    "\n",
    "training images should be manually classified and placed in nn_images/training and nn_images/validation. the subdirs for all the new classes we want to train on should match in these folders (eg. ../training/crabeater ../validation/crabeater)"
   ]
  },
  {
   "cell_type": "code",
   "execution_count": null,
   "metadata": {},
   "outputs": [],
   "source": [
    "import os\n",
    "class_names = [x[1] for x in os.walk('./nn_images/training')][0]\n",
    "print(class_names)"
   ]
  },
  {
   "cell_type": "code",
   "execution_count": null,
   "metadata": {},
   "outputs": [],
   "source": [
    "# The directories should match\n",
    "%ls ~/ICEBERG-code/Code/Seals/toy_example/nn_images/training\n",
    "print('\\n')\n",
    "%ls ~/ICEBERG-code/Code/Seals/toy_example/nn_images/validation"
   ]
  },
  {
   "cell_type": "markdown",
   "metadata": {},
   "source": [
    "## Training\n",
    "\n",
    "Before we get started with training we have to run a script that removes all images that are incompatible with the training. After ensuring that your directory structure is as described above, you can run the following script:"
   ]
  },
  {
   "cell_type": "code",
   "execution_count": null,
   "metadata": {},
   "outputs": [],
   "source": [
    "%run ./prep_train.py"
   ]
  },
  {
   "cell_type": "markdown",
   "metadata": {},
   "source": [
    "You should now be ready to train a model. The model will be saved to your current directory, so you should only have to do this (correctly) once. This will take a bit of time, currently about 20 minutes on our existing data since it is not parallel yet."
   ]
  },
  {
   "cell_type": "code",
   "execution_count": null,
   "metadata": {},
   "outputs": [],
   "source": [
    "%run ./pt_train.py"
   ]
  },
  {
   "cell_type": "markdown",
   "metadata": {},
   "source": [
    "## Predicting\n",
    "\n",
    "At this point you should have an already trained/saved model from the previous section. It is important that you run the code in the \"Getting Started\" section so that the class_names variable is properly populated. New images that you want to make predictions on can be in any directory structure, as long as the root directory is ./images.\n",
    "\n",
    "Run the following code to create the directory structure for the output of your predictions:"
   ]
  },
  {
   "cell_type": "code",
   "execution_count": null,
   "metadata": {},
   "outputs": [],
   "source": [
    "%mkdir classified_images\n",
    "for x in class_names:\n",
    "    dir = './classified_images/' + x\n",
    "    %mkdir -v $dir"
   ]
  },
  {
   "cell_type": "markdown",
   "metadata": {},
   "source": [
    "Finally, you can make predictions on all the images in your ./images directory, and they will be moved to their appropriate sub-directories in ./classified_images:"
   ]
  },
  {
   "cell_type": "code",
   "execution_count": null,
   "metadata": {},
   "outputs": [],
   "source": [
    "%run pt_predict.py -class_names 'crabeater' 'weddell' 'emperor' 'pack-ice' 'other'"
   ]
  }
 ],
 "metadata": {
  "kernelspec": {
   "display_name": "Python 3",
   "language": "python",
   "name": "python3"
  },
  "language_info": {
   "codemirror_mode": {
    "name": "ipython",
    "version": 3
   },
   "file_extension": ".py",
   "mimetype": "text/x-python",
   "name": "python",
   "nbconvert_exporter": "python",
   "pygments_lexer": "ipython3",
   "version": "3.6.3"
  }
 },
 "nbformat": 4,
 "nbformat_minor": 1
}
