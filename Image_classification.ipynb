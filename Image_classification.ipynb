{
 "cells": [
  {
   "cell_type": "markdown",
   "metadata": {},
   "source": [
    "# Image Classification\n",
    "\n",
    "## Getting Started\n",
    "\n",
    "training images should be manually classified and placed in nn_images/training and nn_images/validation. the subdirs for all the new classes we want to train on should match in these folders (eg. ../training/crabeater ../validation/crabeater)"
   ]
  },
  {
   "cell_type": "code",
   "execution_count": 1,
   "metadata": {},
   "outputs": [
    {
     "name": "stdout",
     "output_type": "stream",
     "text": [
      "['emperor', 'weddell', 'crabeater', 'pack-ice', 'other']\n"
     ]
    }
   ],
   "source": [
    "import os\n",
    "class_names = [x[1] for x in os.walk('./nn_images/training')][0]\n",
    "print(class_names)"
   ]
  },
  {
   "cell_type": "code",
   "execution_count": 2,
   "metadata": {},
   "outputs": [
    {
     "name": "stdout",
     "output_type": "stream",
     "text": [
      "\u001b[0m\u001b[01;34mcrabeater\u001b[0m/  \u001b[01;34memperor\u001b[0m/  \u001b[01;34mother\u001b[0m/  \u001b[01;34mpack-ice\u001b[0m/  \u001b[01;34mweddell\u001b[0m/\n",
      "\n",
      "\n",
      "\u001b[0m\u001b[01;34mcrabeater\u001b[0m/  \u001b[01;34memperor\u001b[0m/  \u001b[01;34mother\u001b[0m/  \u001b[01;34mpack-ice\u001b[0m/  \u001b[01;34mweddell\u001b[0m/\n"
     ]
    }
   ],
   "source": [
    "# The directories should match\n",
    "%ls ~/ICEBERG-code/Code/Seals/Toy_example/nn_images/training\n",
    "print('\\n')\n",
    "%ls ~/ICEBERG-code/Code/Seals/Toy_example/nn_images/validation"
   ]
  },
  {
   "cell_type": "markdown",
   "metadata": {},
   "source": [
    "## Training\n",
    "\n",
    "Before we get started with training we have to run a script that removes all images that are incompatible with the training. After ensuring that your directory structure is as described above, you can run the following script:"
   ]
  },
  {
   "cell_type": "code",
   "execution_count": null,
   "metadata": {
    "collapsed": true
   },
   "outputs": [],
   "source": [
    "%run ./prep_train.py"
   ]
  },
  {
   "cell_type": "markdown",
   "metadata": {},
   "source": [
    "You should now be ready to train a model. The model will be saved to your current directory, so you should only have to do this (correctly) once. This will take a bit of time, currently about 10 minutes per epoch on a single GPU (still need to be parallelized for multiple GPUs)."
   ]
  },
  {
   "cell_type": "code",
   "execution_count": null,
   "metadata": {
    "collapsed": true
   },
   "outputs": [],
   "source": [
    "%run ./pt_train.py"
   ]
  },
  {
   "cell_type": "markdown",
   "metadata": {},
   "source": [
    "## Predicting\n",
    "\n",
    "At this point you should have an already trained/saved model from the previous section. It is important that you run the code in the \"Getting Started\" section so that the class_names variable is properly populated. New images that you want to make predictions on can be in any directory structure, as long as the root directory is ./images.\n",
    "\n",
    "#### Run the following code to create the directory structure for the output of your predictions:"
   ]
  },
  {
   "cell_type": "code",
   "execution_count": 3,
   "metadata": {},
   "outputs": [
    {
     "name": "stdout",
     "output_type": "stream",
     "text": [
      "mkdir: cannot create directory ‘classified_images’: File exists\n",
      "mkdir: cannot create directory ‘./classified_images/emperor’: File exists\n",
      "mkdir: cannot create directory ‘./classified_images/weddell’: File exists\n",
      "mkdir: cannot create directory ‘./classified_images/crabeater’: File exists\n",
      "mkdir: cannot create directory ‘./classified_images/pack-ice’: File exists\n",
      "mkdir: cannot create directory ‘./classified_images/other’: File exists\n"
     ]
    }
   ],
   "source": [
    "%mkdir classified_images\n",
    "for x in class_names:\n",
    "    dir = './classified_images/' + x\n",
    "    %mkdir -v $dir"
   ]
  },
  {
   "cell_type": "markdown",
   "metadata": {},
   "source": [
    "#### You can make predictions on all the images in your ./images directory, and they will be moved to their appropriate sub-directories in ./classified_images:"
   ]
  },
  {
   "cell_type": "code",
   "execution_count": 5,
   "metadata": {},
   "outputs": [
    {
     "name": "stdout",
     "output_type": "stream",
     "text": [
      "predicted seal 6_4_2017 , 2_33_12 PM.jpg as: other\n",
      "predicted 4300.jpg as: weddell\n",
      "predicted 2700.jpg as: other\n",
      "predicted seal 5_2_2017 , 7_28_34 PM.jpg as: other\n",
      "predicted 2400.jpg as: weddell\n",
      "predicted 6900.jpg as: weddell\n",
      "predicted seal 5_2_2017 , 7_04_46 PM.jpg as: pack-ice\n",
      "predicted seal 5_2_2017 , 7_06_30 PM.jpg as: pack-ice\n",
      "predicted seal 5_2_2017 , 7_06_25 PM.jpg as: pack-ice\n",
      "predicted seal 5_2_2017 , 7_04_06 PM.jpg as: pack-ice\n",
      "predicted seal 5_2_2017 , 7_03_30 PM.jpg as: pack-ice\n",
      "predicted seal 6_4_2017 , 2_32_07 PM.jpg as: other\n",
      "predicted seal 5_4_2017 , 3_03_54 PM.jpg as: emperor\n",
      "predicted seal 5_2_2017 , 7_07_48 PM.jpg as: pack-ice\n",
      "predicted seal 5_2_2017 , 7_05_45 PM.jpg as: pack-ice\n",
      "predicted seal 5_2_2017 , 7_08_11 PM.jpg as: pack-ice\n",
      "predicted seal 5_2_2017 , 7_03_35 PM.jpg as: pack-ice\n",
      "predicted seal 5_2_2017 , 7_08_19 PM.jpg as: pack-ice\n",
      "predicted seal 5_2_2017 , 7_07_28 PM.jpg as: pack-ice\n",
      "predicted seal 5_2_2017 , 7_06_20 PM.jpg as: pack-ice\n",
      "predicted seal 6_4_2017 , 2_31_09 PM.jpg as: other\n",
      "predicted seal 6_4_2017 , 2_32_05 PM.jpg as: other\n",
      "predicted seal 5_2_2017 , 7_28_30 PM.jpg as: other\n",
      "predicted 3700.jpg as: other\n",
      "predicted seal 5_2_2017 , 7_07_57 PM.jpg as: pack-ice\n",
      "predicted seal 6_4_2017 , 2_26_56 PM.jpg as: other\n",
      "predicted seal 6_4_2017 , 2_33_10 PM.jpg as: other\n",
      "predicted 36_13.jpg as: weddell\n",
      "predicted 4900.jpg as: other\n",
      "predicted seal 5_2_2017 , 7_07_15 PM.jpg as: pack-ice\n",
      "predicted seal 5_2_2017 , 7_06_36 PM.jpg as: pack-ice\n",
      "predicted seal 6_4_2017 , 2_28_22 PM.jpg as: other\n",
      "predicted seal 5_2_2017 , 7_06_43 PM.jpg as: pack-ice\n",
      "predicted 17_44.jpg as: weddell\n",
      "predicted seal 5_2_2017 , 7_07_32 PM.jpg as: pack-ice\n",
      "predicted seal 6_4_2017 , 2_33_07 PM.jpg as: other\n",
      "predicted seal 5_2_2017 , 7_05_59 PM.jpg as: pack-ice\n",
      "predicted seal 6_4_2017 , 2_25_53 PM.jpg as: other\n",
      "predicted seal 5_2_2017 , 7_28_27 PM.jpg as: other\n",
      "predicted 6700.jpg as: weddell\n",
      "predicted seal 6_4_2017 , 2_26_42 PM.jpg as: other\n",
      "predicted seal 5_2_2017 , 7_06_06 PM.jpg as: pack-ice\n",
      "predicted 23_13.jpg as: weddell\n",
      "predicted 6300.jpg as: other\n",
      "predicted 39_30.jpg as: other\n",
      "predicted 1600.jpg as: other\n",
      "predicted seal 6_4_2017 , 2_28_03 PM.jpg as: pack-ice\n",
      "predicted 43_7.jpg as: weddell\n",
      "predicted 600.jpg as: other\n",
      "predicted 3900.jpg as: other\n",
      "predicted seal 6_4_2017 , 2_28_35 PM.jpg as: other\n",
      "predicted 6600.jpg as: pack-ice\n",
      "predicted 14_13.jpg as: weddell\n",
      "predicted seal 5_2_2017 , 7_28_24 PM.jpg as: other\n",
      "predicted seal 5_2_2017 , 7_07_21 PM.jpg as: pack-ice\n",
      "predicted seal 5_2_2017 , 7_08_08 PM.jpg as: pack-ice\n",
      "predicted seal 5_2_2017 , 7_04_17 PM.jpg as: pack-ice\n",
      "predicted seal 5_2_2017 , 7_28_20 PM.jpg as: other\n",
      "predicted seal 5_2_2017 , 7_05_50 PM.jpg as: pack-ice\n",
      "predicted seal 5_2_2017 , 7_04_12 PM.jpg as: emperor\n",
      "predicted 10_12.jpg as: weddell\n",
      "predicted seal 6_4_2017 , 2_28_28 PM.jpg as: other\n",
      "predicted 46_30.jpg as: weddell\n",
      "predicted seal 5_2_2017 , 7_07_04 PM.jpg as: pack-ice\n",
      "predicted seal 6_4_2017 , 2_27_03 PM.jpg as: other\n"
     ]
    }
   ],
   "source": [
    "%run pt_predict.py -class_names 'crabeater' 'weddell' 'emperor' 'pack-ice' 'other'"
   ]
  },
  {
   "cell_type": "markdown",
   "metadata": {},
   "source": [
    "#### Finally, run simple blob detector on images with seals"
   ]
  },
  {
   "cell_type": "code",
   "execution_count": null,
   "metadata": {},
   "outputs": [
    {
     "name": "stdout",
     "output_type": "stream",
     "text": [
      "[<KeyPoint 0x7f8f540b0480>, <KeyPoint 0x7f8f540b04b0>, <KeyPoint 0x7f8f540b04e0>, <KeyPoint 0x7f8f540b0510>, <KeyPoint 0x7f8f540b0540>, <KeyPoint 0x7f8f540b0570>]\n",
      "[<KeyPoint 0x7f8f540b0630>]\n"
     ]
    }
   ],
   "source": [
    "%run blob_detector.py"
   ]
  }
 ],
 "metadata": {
  "kernelspec": {
   "display_name": "Python 3",
   "language": "python",
   "name": "python3"
  },
  "language_info": {
   "codemirror_mode": {
    "name": "ipython",
    "version": 3
   },
   "file_extension": ".py",
   "mimetype": "text/x-python",
   "name": "python",
   "nbconvert_exporter": "python",
   "pygments_lexer": "ipython3",
   "version": "3.6.3"
  }
 },
 "nbformat": 4,
 "nbformat_minor": 1
}
