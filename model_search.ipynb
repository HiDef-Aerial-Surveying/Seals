{
 "cells": [
  {
   "cell_type": "markdown",
   "metadata": {},
   "source": [
    "# Model search\n",
    "\n",
    "## Getting started\n",
    "\n",
    "With training sets generated and hyperparameter sets designed, its time to search for a best performing model setup. Models will be evaluated at three levels: **1)** their ability to identify scenes with seals, **2)** retrieve seal haul outs **3)** and count individual seals. Current training classes can be displayed by running the following cells."
   ]
  },
  {
   "cell_type": "code",
   "execution_count": null,
   "metadata": {
    "collapsed": true
   },
   "outputs": [],
   "source": [
    "import os\n",
    "class_names = [x[1] for x in os.walk('./training_set/training')][0]\n",
    "print(class_names)"
   ]
  },
  {
   "cell_type": "code",
   "execution_count": null,
   "metadata": {
    "collapsed": true
   },
   "outputs": [],
   "source": [
    "# The directories should match\n",
    "%ls ./training_set/training\n",
    "print('\\n')\n",
    "%ls ./training_set/validation"
   ]
  },
  {
   "cell_type": "markdown",
   "metadata": {},
   "source": [
    "## Training"
   ]
  },
  {
   "cell_type": "markdown",
   "metadata": {},
   "source": [
    "The first step to find a best performing model is to train different model setups using our training set. To keep track of which combinations we have tried and, later on, performance scores at the three levels described above, we will start by creating a pandas DataFrame with model definitions."
   ]
  },
  {
   "cell_type": "code",
   "execution_count": 1,
   "metadata": {
    "collapsed": true
   },
   "outputs": [],
   "source": [
    "import pandas as pd\n",
    "\n",
    "combinations = {'model_architecture': ['Resnet18' for ele in range(4)] + ['Nasnet1' for ele in range(4)],\n",
    "                'training_dir': ['training_set', 'training_set_multiscale'] * 4,\n",
    "                'hyperparameter_set': ['A' for ele in range(4)] + ['B' for ele in range(4)],\n",
    "                'cv_weights': ['NO', 'NO', 'A', 'A'] * 2,\n",
    "                'output_name': ['model{}.tar'.format(i) for i in range(1,9)]}\n",
    "\n",
    "combinations = pd.DataFrame(combinations)\n",
    "\n"
   ]
  },
  {
   "cell_type": "markdown",
   "metadata": {},
   "source": [
    "We can then provide model combinations created above as arguments to the training script, *train_sealnet.py*. A list of requiredarguments can be displayed by running the cell below."
   ]
  },
  {
   "cell_type": "code",
   "execution_count": 2,
   "metadata": {},
   "outputs": [
    {
     "name": "stdout",
     "output_type": "stream",
     "text": [
      "usage: train_sealnet.py [-h]\n",
      "                        training_dir model_architecture hyperparameter_set\n",
      "                        cv_weights output_name\n",
      "\n",
      "trains a CNN to find seals in satellite imagery\n",
      "\n",
      "positional arguments:\n",
      "  training_dir        base directory to recursively search for images in\n",
      "  model_architecture  model architecture, must be a member of models\n",
      "                      dictionary\n",
      "  hyperparameter_set  combination of hyperparameters used, must be a member of\n",
      "                      hyperparameters dictionary\n",
      "  cv_weights          weights for weighted-cross validation, must be a member\n",
      "                      of cv_weightsdictionary\n",
      "  output_name         name of output file from training, this name will also\n",
      "                      be used in subsequent steps of the pipeline\n",
      "\n",
      "optional arguments:\n",
      "  -h, --help          show this help message and exit\n"
     ]
    }
   ],
   "source": [
    "%run train_sealnet.py -h"
   ]
  },
  {
   "cell_type": "code",
   "execution_count": 3,
   "metadata": {},
   "outputs": [
    {
     "name": "stderr",
     "output_type": "stream",
     "text": [
      "ERROR:root:Line magic function `%` not found.\n"
     ]
    },
    {
     "name": "stdout",
     "output_type": "stream",
     "text": [
      "training model1.tar\n",
      "Traceback (most recent call last):\n",
      "  File \"train_sealnet.py\", line 15, in <module>\n",
      "    from train_sealnet_nas_scalable import NASNetALarge\n",
      "ModuleNotFoundError: No module named 'train_sealnet_nas_scalable'\n"
     ]
    },
    {
     "name": "stderr",
     "output_type": "stream",
     "text": [
      "ERROR:root:Line magic function `%` not found.\n"
     ]
    },
    {
     "name": "stdout",
     "output_type": "stream",
     "text": [
      "training model2.tar\n",
      "Traceback (most recent call last):\n",
      "  File \"train_sealnet.py\", line 15, in <module>\n",
      "    from train_sealnet_nas_scalable import NASNetALarge\n",
      "ModuleNotFoundError: No module named 'train_sealnet_nas_scalable'\n"
     ]
    },
    {
     "name": "stderr",
     "output_type": "stream",
     "text": [
      "ERROR:root:Line magic function `%` not found.\n"
     ]
    },
    {
     "name": "stdout",
     "output_type": "stream",
     "text": [
      "training model3.tar\n",
      "Traceback (most recent call last):\n",
      "  File \"train_sealnet.py\", line 15, in <module>\n",
      "    from train_sealnet_nas_scalable import NASNetALarge\n",
      "ModuleNotFoundError: No module named 'train_sealnet_nas_scalable'\n"
     ]
    },
    {
     "name": "stderr",
     "output_type": "stream",
     "text": [
      "ERROR:root:Line magic function `%` not found.\n"
     ]
    },
    {
     "name": "stdout",
     "output_type": "stream",
     "text": [
      "training model4.tar\n",
      "Traceback (most recent call last):\n",
      "  File \"train_sealnet.py\", line 15, in <module>\n",
      "    from train_sealnet_nas_scalable import NASNetALarge\n",
      "ModuleNotFoundError: No module named 'train_sealnet_nas_scalable'\n"
     ]
    },
    {
     "name": "stderr",
     "output_type": "stream",
     "text": [
      "ERROR:root:Line magic function `%` not found.\n"
     ]
    },
    {
     "name": "stdout",
     "output_type": "stream",
     "text": [
      "training model5.tar\n",
      "Traceback (most recent call last):\n",
      "  File \"train_sealnet.py\", line 15, in <module>\n",
      "    from train_sealnet_nas_scalable import NASNetALarge\n",
      "ModuleNotFoundError: No module named 'train_sealnet_nas_scalable'\n"
     ]
    },
    {
     "name": "stderr",
     "output_type": "stream",
     "text": [
      "ERROR:root:Line magic function `%` not found.\n"
     ]
    },
    {
     "name": "stdout",
     "output_type": "stream",
     "text": [
      "training model6.tar\n",
      "Traceback (most recent call last):\n",
      "  File \"train_sealnet.py\", line 15, in <module>\n",
      "    from train_sealnet_nas_scalable import NASNetALarge\n",
      "ModuleNotFoundError: No module named 'train_sealnet_nas_scalable'\n"
     ]
    },
    {
     "name": "stderr",
     "output_type": "stream",
     "text": [
      "ERROR:root:Line magic function `%` not found.\n"
     ]
    },
    {
     "name": "stdout",
     "output_type": "stream",
     "text": [
      "training model7.tar\n",
      "Traceback (most recent call last):\n",
      "  File \"train_sealnet.py\", line 15, in <module>\n",
      "    from train_sealnet_nas_scalable import NASNetALarge\n",
      "ModuleNotFoundError: No module named 'train_sealnet_nas_scalable'\n"
     ]
    },
    {
     "name": "stderr",
     "output_type": "stream",
     "text": [
      "ERROR:root:Line magic function `%` not found.\n"
     ]
    },
    {
     "name": "stdout",
     "output_type": "stream",
     "text": [
      "training model8.tar\n",
      "Traceback (most recent call last):\n",
      "  File \"train_sealnet.py\", line 15, in <module>\n",
      "    from train_sealnet_nas_scalable import NASNetALarge\n",
      "ModuleNotFoundError: No module named 'train_sealnet_nas_scalable'\n"
     ]
    }
   ],
   "source": [
    "for row in combinations.iterrows():\n",
    "    t_dir, arch, hyp_st, cv_wgt, out = row[1]['training_dir'], row[1]['model_architecture'], row[1]['hyperparameter_set'], row[1]['cv_weights'], row[1]['output_name']                                    \n",
    "    %% bash -c \"t_dir=$t_dir\"; \"arch=$arch\"; \"hyp_st=$hyp_st\"; \"cv_wgt=$cv_wgt\"; \"out=$out\"; \n",
    "    !echo training $out\n",
    "    !python train_sealnet.py $t_dir $arch $hyp_st $cv_wgt $out\n",
    "    \n",
    "      "
   ]
  },
  {
   "cell_type": "markdown",
   "metadata": {},
   "source": [
    "## Validation"
   ]
  }
 ],
 "metadata": {
  "kernelspec": {
   "display_name": "Python 3",
   "language": "python",
   "name": "python3"
  },
  "language_info": {
   "codemirror_mode": {
    "name": "ipython",
    "version": 3
   },
   "file_extension": ".py",
   "mimetype": "text/x-python",
   "name": "python",
   "nbconvert_exporter": "python",
   "pygments_lexer": "ipython3",
   "version": "3.6.3"
  }
 },
 "nbformat": 4,
 "nbformat_minor": 1
}
